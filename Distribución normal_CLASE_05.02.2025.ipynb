{
 "cells": [
  {
   "cell_type": "markdown",
   "metadata": {
    "id": "ZLwo5XUH0EuE"
   },
   "source": [
    "![logo_academia.png](data:image/png;base64,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)\n",
    "\n"
   ]
  },
  {
   "cell_type": "markdown",
   "metadata": {
    "id": "3C4uHh3vcH-y"
   },
   "source": [
    "# <center><strong><font color=\"green\">Distribución normal</font></strong></center>\n",
    "\n",
    "## <strong><font color=\"green\">Modelando con la distribución normal</font></strong>\n",
    "Veremos como la distribución normal permite modelar algunos conjuntos de datos. Para ello necesitaremos importar algunas librerías y un conjunto de datos"
   ]
  },
  {
   "cell_type": "markdown",
   "metadata": {},
   "source": [
    "### norm.pdf"
   ]
  },
  {
   "cell_type": "markdown",
   "metadata": {},
   "source": [
    "* Nos ayuda a dibujar una curva teórica (la campana) basada en la media y desviación estándar de tus datos.\n",
    "\n",
    "* No simula datos, solo nos da una idea de cómo deberían distribuirse si fueran normales.\n",
    "\n",
    "* Es una herramienta para comparar y modelar, no para generar datos nuevos."
   ]
  },
  {
   "cell_type": "code",
   "execution_count": null,
   "metadata": {},
   "outputs": [],
   "source": []
  },
  {
   "cell_type": "code",
   "execution_count": 1,
   "metadata": {
    "executionInfo": {
     "elapsed": 1232,
     "status": "ok",
     "timestamp": 1690472733649,
     "user": {
      "displayName": "Pedro Rupin Gutiérrez",
      "userId": "00594041316908064396"
     },
     "user_tz": 240
    },
    "id": "YnFOEFEIlrt5"
   },
   "outputs": [],
   "source": [
    "import pandas as pd\n",
    "import numpy as np\n",
    "import seaborn as sns\n",
    "\n",
    "import matplotlib.pyplot as plt\n",
    "from scipy.stats import norm\n",
    "\n",
    "dataset = pd.read_csv('height_weight.csv')"
   ]
  },
  {
   "cell_type": "code",
   "execution_count": 2,
   "metadata": {},
   "outputs": [
    {
     "data": {
      "text/html": [
       "<div>\n",
       "<style scoped>\n",
       "    .dataframe tbody tr th:only-of-type {\n",
       "        vertical-align: middle;\n",
       "    }\n",
       "\n",
       "    .dataframe tbody tr th {\n",
       "        vertical-align: top;\n",
       "    }\n",
       "\n",
       "    .dataframe thead th {\n",
       "        text-align: right;\n",
       "    }\n",
       "</style>\n",
       "<table border=\"1\" class=\"dataframe\">\n",
       "  <thead>\n",
       "    <tr style=\"text-align: right;\">\n",
       "      <th></th>\n",
       "      <th>Gender</th>\n",
       "      <th>Height</th>\n",
       "      <th>Weight</th>\n",
       "    </tr>\n",
       "  </thead>\n",
       "  <tbody>\n",
       "    <tr>\n",
       "      <th>0</th>\n",
       "      <td>Male</td>\n",
       "      <td>73.847017</td>\n",
       "      <td>241.893563</td>\n",
       "    </tr>\n",
       "    <tr>\n",
       "      <th>1</th>\n",
       "      <td>Male</td>\n",
       "      <td>68.781904</td>\n",
       "      <td>162.310473</td>\n",
       "    </tr>\n",
       "    <tr>\n",
       "      <th>2</th>\n",
       "      <td>Male</td>\n",
       "      <td>74.110105</td>\n",
       "      <td>212.740856</td>\n",
       "    </tr>\n",
       "    <tr>\n",
       "      <th>3</th>\n",
       "      <td>Male</td>\n",
       "      <td>71.730978</td>\n",
       "      <td>220.042470</td>\n",
       "    </tr>\n",
       "    <tr>\n",
       "      <th>4</th>\n",
       "      <td>Male</td>\n",
       "      <td>69.881796</td>\n",
       "      <td>206.349801</td>\n",
       "    </tr>\n",
       "  </tbody>\n",
       "</table>\n",
       "</div>"
      ],
      "text/plain": [
       "  Gender     Height      Weight\n",
       "0   Male  73.847017  241.893563\n",
       "1   Male  68.781904  162.310473\n",
       "2   Male  74.110105  212.740856\n",
       "3   Male  71.730978  220.042470\n",
       "4   Male  69.881796  206.349801"
      ]
     },
     "execution_count": 2,
     "metadata": {},
     "output_type": "execute_result"
    }
   ],
   "source": [
    "dataset.head()"
   ]
  },
  {
   "cell_type": "code",
   "execution_count": 3,
   "metadata": {},
   "outputs": [
    {
     "data": {
      "text/plain": [
       "(10000, 3)"
      ]
     },
     "execution_count": 3,
     "metadata": {},
     "output_type": "execute_result"
    }
   ],
   "source": [
    "dataset.shape"
   ]
  },
  {
   "cell_type": "code",
   "execution_count": 4,
   "metadata": {
    "colab": {
     "base_uri": "https://localhost:8080/"
    },
    "executionInfo": {
     "elapsed": 46,
     "status": "ok",
     "timestamp": 1690472733651,
     "user": {
      "displayName": "Pedro Rupin Gutiérrez",
      "userId": "00594041316908064396"
     },
     "user_tz": 240
    },
    "id": "6u1QvhXG7HKi",
    "outputId": "3cb9c8e0-3827-4f92-86c2-f6bc3f2634a0"
   },
   "outputs": [
    {
     "data": {
      "text/plain": [
       "Gender    10000\n",
       "Height    10000\n",
       "Weight    10000\n",
       "dtype: int64"
      ]
     },
     "execution_count": 4,
     "metadata": {},
     "output_type": "execute_result"
    }
   ],
   "source": [
    "dataset.count()\n"
   ]
  },
  {
   "cell_type": "markdown",
   "metadata": {
    "id": "HaLtTSxW0K_n"
   },
   "source": [
    "El dataset contiene los datos de genero, estatura (en pulgadas) y peso (en libras) de 10000 personas. Veremos algunos indicadores para la altura."
   ]
  },
  {
   "cell_type": "code",
   "execution_count": 5,
   "metadata": {},
   "outputs": [
    {
     "name": "stdout",
     "output_type": "stream",
     "text": [
      "<class 'pandas.core.frame.DataFrame'>\n",
      "RangeIndex: 10000 entries, 0 to 9999\n",
      "Data columns (total 3 columns):\n",
      " #   Column  Non-Null Count  Dtype  \n",
      "---  ------  --------------  -----  \n",
      " 0   Gender  10000 non-null  object \n",
      " 1   Height  10000 non-null  float64\n",
      " 2   Weight  10000 non-null  float64\n",
      "dtypes: float64(2), object(1)\n",
      "memory usage: 234.5+ KB\n"
     ]
    }
   ],
   "source": [
    "dataset.info()"
   ]
  },
  {
   "cell_type": "code",
   "execution_count": 6,
   "metadata": {
    "colab": {
     "base_uri": "https://localhost:8080/"
    },
    "executionInfo": {
     "elapsed": 44,
     "status": "ok",
     "timestamp": 1690472733659,
     "user": {
      "displayName": "Pedro Rupin Gutiérrez",
      "userId": "00594041316908064396"
     },
     "user_tz": 240
    },
    "id": "Hf4dwKimoghq",
    "outputId": "ca344251-0a47-482f-94ef-5637c65b7b7c"
   },
   "outputs": [
    {
     "data": {
      "text/plain": [
       "count    10000.000000\n",
       "mean        66.367560\n",
       "std          3.847528\n",
       "min         54.263133\n",
       "25%         63.505620\n",
       "50%         66.318070\n",
       "75%         69.174262\n",
       "max         78.998742\n",
       "Name: Height, dtype: float64"
      ]
     },
     "execution_count": 6,
     "metadata": {},
     "output_type": "execute_result"
    }
   ],
   "source": [
    "dataset['Height'].dropna().describe()"
   ]
  },
  {
   "cell_type": "code",
   "execution_count": 7,
   "metadata": {},
   "outputs": [
    {
     "data": {
      "text/html": [
       "<div>\n",
       "<style scoped>\n",
       "    .dataframe tbody tr th:only-of-type {\n",
       "        vertical-align: middle;\n",
       "    }\n",
       "\n",
       "    .dataframe tbody tr th {\n",
       "        vertical-align: top;\n",
       "    }\n",
       "\n",
       "    .dataframe thead th {\n",
       "        text-align: right;\n",
       "    }\n",
       "</style>\n",
       "<table border=\"1\" class=\"dataframe\">\n",
       "  <thead>\n",
       "    <tr style=\"text-align: right;\">\n",
       "      <th></th>\n",
       "      <th>Height</th>\n",
       "      <th>Weight</th>\n",
       "    </tr>\n",
       "  </thead>\n",
       "  <tbody>\n",
       "    <tr>\n",
       "      <th>count</th>\n",
       "      <td>10000.000000</td>\n",
       "      <td>10000.000000</td>\n",
       "    </tr>\n",
       "    <tr>\n",
       "      <th>mean</th>\n",
       "      <td>66.367560</td>\n",
       "      <td>161.440357</td>\n",
       "    </tr>\n",
       "    <tr>\n",
       "      <th>std</th>\n",
       "      <td>3.847528</td>\n",
       "      <td>32.108439</td>\n",
       "    </tr>\n",
       "    <tr>\n",
       "      <th>min</th>\n",
       "      <td>54.263133</td>\n",
       "      <td>64.700127</td>\n",
       "    </tr>\n",
       "    <tr>\n",
       "      <th>25%</th>\n",
       "      <td>63.505620</td>\n",
       "      <td>135.818051</td>\n",
       "    </tr>\n",
       "    <tr>\n",
       "      <th>50%</th>\n",
       "      <td>66.318070</td>\n",
       "      <td>161.212928</td>\n",
       "    </tr>\n",
       "    <tr>\n",
       "      <th>75%</th>\n",
       "      <td>69.174262</td>\n",
       "      <td>187.169525</td>\n",
       "    </tr>\n",
       "    <tr>\n",
       "      <th>max</th>\n",
       "      <td>78.998742</td>\n",
       "      <td>269.989699</td>\n",
       "    </tr>\n",
       "  </tbody>\n",
       "</table>\n",
       "</div>"
      ],
      "text/plain": [
       "             Height        Weight\n",
       "count  10000.000000  10000.000000\n",
       "mean      66.367560    161.440357\n",
       "std        3.847528     32.108439\n",
       "min       54.263133     64.700127\n",
       "25%       63.505620    135.818051\n",
       "50%       66.318070    161.212928\n",
       "75%       69.174262    187.169525\n",
       "max       78.998742    269.989699"
      ]
     },
     "execution_count": 7,
     "metadata": {},
     "output_type": "execute_result"
    }
   ],
   "source": [
    "dataset.describe()"
   ]
  },
  {
   "cell_type": "markdown",
   "metadata": {
    "id": "vkgIhiLv0YQ3"
   },
   "source": [
    "Si construimos un histograma de los datos de (Height = estatura) obtenemos lo siguiente:"
   ]
  },
  {
   "cell_type": "code",
   "execution_count": 8,
   "metadata": {
    "colab": {
     "base_uri": "https://localhost:8080/",
     "height": 449
    },
    "executionInfo": {
     "elapsed": 308,
     "status": "ok",
     "timestamp": 1690472733945,
     "user": {
      "displayName": "Pedro Rupin Gutiérrez",
      "userId": "00594041316908064396"
     },
     "user_tz": 240
    },
    "id": "vaV8Rx45mLdz",
    "outputId": "e3dca981-19e4-4839-b0c1-1348cf049e7d"
   },
   "outputs": [
    {
     "data": {
      "image/png": "[encoded data removed]",
      "text/plain": [
       "<Figure size 640x480 with 1 Axes>"
      ]
     },
     "metadata": {},
     "output_type": "display_data"
    }
   ],
   "source": [
    "alturas = dataset['Height'].dropna() # asignamos la columna altura a la variable alturas\n",
    "\n",
    "media = np.mean(alturas) # obtenemos el promedio de las alturas\n",
    "\n",
    "\n",
    "plt.hist(alturas, bins=100) # llamamos a pyplot (su alias) seguido de hist, para generar un histograma, e indicamos que se divida el eje x en 100 intervalos\n",
    "\n",
    "plt.axvline(x=media, color='red', linestyle='dashed', linewidth=2, label='Media') # insertamos la columna vertical (personalizada)\n",
    "\n",
    "plt.xlabel('Estatura (en pulgadas)') # indicamos la etiqueta para el eje x\n",
    "\n",
    "plt.ylabel('Frecuencia')# indicamos la etiqueta para el eje y\n",
    "\n",
    "plt.show() # mostramos el grafico (en jupyter no es necesario indicarlo, pero siempre es mejor hacerlo)"
   ]
  },
  {
   "cell_type": "markdown",
   "metadata": {
    "id": "njd2tBVVe-Lx"
   },
   "source": [
    "Podemos observar que la distribución de los datos es bastante simétrica respecto de la media.\n",
    "\n",
    "\n"
   ]
  },
  {
   "cell_type": "markdown",
   "metadata": {
    "id": "ZJ2LXMvO0dzO"
   },
   "source": [
    "Veremos ahora como un modelo de distribucion normal puede ayudarnos a modelar esta situación."
   ]
  },
  {
   "cell_type": "code",
   "execution_count": 9,
   "metadata": {
    "colab": {
     "base_uri": "https://localhost:8080/",
     "height": 472
    },
    "executionInfo": {
     "elapsed": 979,
     "status": "ok",
     "timestamp": 1690472734907,
     "user": {
      "displayName": "Pedro Rupin Gutiérrez",
      "userId": "00594041316908064396"
     },
     "user_tz": 240
    },
    "id": "QZOA0gylm7n4",
    "outputId": "e7977d33-119c-48bf-bf5a-cc2e34e7ce8b"
   },
   "outputs": [
    {
     "data": {
      "image/png": "[encoded data removed]",
      "text/plain": [
       "<Figure size 640x480 with 1 Axes>"
      ]
     },
     "metadata": {},
     "output_type": "display_data"
    }
   ],
   "source": [
    "#Calculamos la media y la desviación estándar de los datos, además de los valores máximo y mínimo para graficar.\n",
    "\n",
    "mu = alturas.mean()\n",
    "sigma = alturas.std()\n",
    "minimo=alturas.min()\n",
    "maximo=alturas.max()\n",
    "\n",
    "#Creamos un arreglo de valores equidistantes entre los valores mínimo y máximo, utilizando linspace\n",
    "x = np.linspace(minimo, maximo)\n",
    "\n",
    "#Creamos una función, llamada pdf, que calcula el valor de la función de distribución de probabilidad normal, con los parámetros dados\n",
    "# Notemos que \"sigma\" funciona como \"escala\"\n",
    "pdf = norm.pdf(x, loc=mu, scale=sigma)\n",
    "\n",
    "\n",
    "# Histograma de los datos. El parámetro \"density=True\" va a construir el histograma haciendo que la suma de todas \n",
    "#las áreas de las barras sea igual a 1, para que podamos representar las probabilidades\n",
    "\n",
    "plt.hist(alturas, bins=100, density=True, alpha=0.5, label='Muestra')#alpha=0.5 da un 50% de transparencia\n",
    "\n",
    "plt.plot(x, pdf, color='red', label='PDF') #Graficamos la distribución normal\n",
    "\n",
    "plt.xlabel('Estatura (en pulgadas)')\n",
    "plt.ylabel('Densidad de probabilidad normalizada')\n",
    "plt.title('Distribución real vs normal')\n",
    "plt.legend()\n",
    "plt.show()\n"
   ]
  },
  {
   "cell_type": "markdown",
   "metadata": {},
   "source": [
    "Una vez que ya hemos comparado los datos con la distribución normal y hemos visto que se ajustan razonablemente bien, esa información tiene varias aplicaciones prácticas, como por ejemplo:"
   ]
  },
  {
   "cell_type": "markdown",
   "metadata": {},
   "source": [
    "**1. Hacer predicciones**\n",
    "\n",
    "Si nuestros datos siguen una distribución normal, podemos usar las propiedades de la distribución normal para predecir probabilidades.\n",
    "\n",
    "Por ejemplo, si estamos modelando las alturas de una población, podemos calcular:\n",
    "\n",
    "¿Cuál es la probabilidad de que una persona mida más de 180 cm?\n",
    "\n",
    "¿Qué altura corresponde al 10% más bajo de la población?\n",
    "\n",
    "Esto es útil en muchos campos, como medicina, ingeniería, economía, etc.\n",
    "\n",
    "\n",
    "**2. Calcular intervalos de confianza**\n",
    "\n",
    "Si estamos trabajando con estadísticas, la distribución normal nos permite calcular intervalos de confianza.\n",
    "\n",
    "Por ejemplo, podemos decir: \"Estamos 95% seguros de que la altura promedio de la población está entre 168 cm y 172 cm\".\n",
    "\n",
    "Esto es útil para tomar decisiones basadas en datos, sabiendo cuánta incertidumbre hay.\n",
    "\n",
    "**3. Realizar pruebas de hipótesis**\n",
    "Muchas pruebas estadísticas (como la prueba t o la prueba z) asumen que los datos siguen una distribución normal.\n",
    "\n",
    "Si nuestros datos son normales, podemos usar estas pruebas para responder preguntas como:\n",
    "\n",
    "¿La altura promedio de los hombres es diferente a la de las mujeres?\n",
    "\n",
    "¿Un nuevo medicamento afecta el crecimiento de los niños?\n",
    "\n",
    "**4. Modelar fenómenos naturales o sociales**\n",
    "Muchos fenómenos en la naturaleza y la sociedad siguen una distribución normal (o aproximadamente normal).\n",
    "\n",
    "Si nuestros datos son normales, podemos usar la distribución normal para modelar y entender esos fenómenos.\n",
    "\n",
    "Ejemplos:\n",
    "\n",
    "Peso de productos en una fábrica.\n",
    "\n",
    "Calificaciones de exámenes.\n",
    "\n",
    "Errores de medición en experimentos científicos.\n",
    "\n",
    "**5. Generar datos sintéticos**\n",
    "    \n",
    "Si sabemos que nuestros datos siguen una distribución normal, podemos usar esa información para generar datos sintéticos (datos artificiales que imitan el comportamiento de los datos reales).\n",
    "\n",
    "Esto es útil en simulaciones, pruebas de software o cuando no tenemos suficientes datos reales.\n",
    "\n",
    "**6. Tomar decisiones basadas en probabilidades**\n",
    "\n",
    "La distribución normal nos permite calcular probabilidades de eventos.\n",
    "\n",
    "Por ejemplo:\n",
    "\n",
    "Si estamos diseñando ropa, podemos calcular qué tallas son más comunes.\n",
    "\n",
    "Si estamos planificando la altura de puertas, podemos asegurarnos de que el 99% de las personas pasen sin agacharse.\n",
    "\n"
   ]
  },
  {
   "cell_type": "code",
   "execution_count": null,
   "metadata": {},
   "outputs": [],
   "source": []
  },
  {
   "cell_type": "code",
   "execution_count": null,
   "metadata": {},
   "outputs": [],
   "source": []
  },
  {
   "cell_type": "code",
   "execution_count": null,
   "metadata": {},
   "outputs": [],
   "source": []
  },
  {
   "cell_type": "markdown",
   "metadata": {
    "id": "DhRBqtua0tO-"
   },
   "source": [
    "¿Y si comparamos ahora los pesos, para hombres y mujeres por separado? Vamos a extraer los datos"
   ]
  },
  {
   "cell_type": "code",
   "execution_count": 10,
   "metadata": {
    "executionInfo": {
     "elapsed": 46,
     "status": "ok",
     "timestamp": 1690472734909,
     "user": {
      "displayName": "Pedro Rupin Gutiérrez",
      "userId": "00594041316908064396"
     },
     "user_tz": 240
    },
    "id": "N-39EUzxo4Sp"
   },
   "outputs": [],
   "source": [
    "hombres = dataset[dataset['Gender']=='Male']['Weight']\n",
    "mujeres = dataset[dataset['Gender']=='Female']['Weight']"
   ]
  },
  {
   "cell_type": "code",
   "execution_count": null,
   "metadata": {},
   "outputs": [],
   "source": []
  },
  {
   "cell_type": "code",
   "execution_count": null,
   "metadata": {},
   "outputs": [],
   "source": []
  },
  {
   "cell_type": "markdown",
   "metadata": {
    "id": "J0n4T-IRkx29"
   },
   "source": [
    "Definiremos ahora una función que nos permita modelar un conjunto de datos con a distribución normal"
   ]
  },
  {
   "cell_type": "code",
   "execution_count": 11,
   "metadata": {
    "executionInfo": {
     "elapsed": 46,
     "status": "ok",
     "timestamp": 1690472734912,
     "user": {
      "displayName": "Pedro Rupin Gutiérrez",
      "userId": "00594041316908064396"
     },
     "user_tz": 240
    },
    "id": "gFNkH9ARpTuG"
   },
   "outputs": [],
   "source": [
    "def get_psd(x):\n",
    "  mu=x.mean()\n",
    "  sigma=x.std()\n",
    "  minimo=x.min()\n",
    "  maximo=x.max()\n",
    "  x = np.linspace(minimo, maximo)\n",
    "  pdf = norm.pdf(x, loc=mu, scale=sigma)\n",
    "  return(x,pdf)\n",
    "\n"
   ]
  },
  {
   "cell_type": "markdown",
   "metadata": {
    "id": "ADqHbXMalBHq"
   },
   "source": [
    "Con esto, ya podemos hacer nuestra comparación"
   ]
  },
  {
   "cell_type": "code",
   "execution_count": 24,
   "metadata": {
    "colab": {
     "base_uri": "https://localhost:8080/",
     "height": 472
    },
    "executionInfo": {
     "elapsed": 640,
     "status": "ok",
     "timestamp": 1690472735510,
     "user": {
      "displayName": "Pedro Rupin Gutiérrez",
      "userId": "00594041316908064396"
     },
     "user_tz": 240
    },
    "id": "Hs7gI6GJk7gD",
    "outputId": "f5246184-e1b3-48cb-a49d-c4d1a07a40d6"
   },
   "outputs": [
    {
     "data": {
      "image/png": "[encoded data removed]",
      "text/plain": [
       "<Figure size 640x480 with 1 Axes>"
      ]
     },
     "metadata": {},
     "output_type": "display_data"
    }
   ],
   "source": [
    "x,pdf=get_psd(hombres)\n",
    "plt.plot(x , pdf, color='blue', label='hombres')\n",
    "\n",
    "x,pdf=get_psd(mujeres)\n",
    "plt.plot(x , pdf, color='red', label='mujeres')\n",
    "\n",
    "plt.hist(hombres, bins=100, density=True, alpha=0.2, color='blue')\n",
    "plt.hist(mujeres, bins=100, density=True, alpha=0.2, color='red')\n",
    "\n",
    "plt.xlabel('x')\n",
    "plt.ylabel('Densidad de probabilidad normalizada')\n",
    "plt.title('Comparación de pesos de hombres y mujeres')\n",
    "plt.legend()\n",
    "plt.show()"
   ]
  },
  {
   "cell_type": "markdown",
   "metadata": {
    "id": "jYiAa5ZrpWOH"
   },
   "source": [
    "## <strong><font color=\"green\">Parámetros la distribución normal</font></strong>\n",
    "\n",
    "¿Cuál puede ser la importancia de los parámetros de una distribución normal? \n",
    "\n",
    "\n",
    "Como hemos mencionado, la media de los datos constituye un **eje de simetria** de la curva. Mientras mayor sea esta media, este eje estará más desplazado hacia la derecha. En el gráfico anterior puedes ver que el promedio para los hombres es mayor, lo que hace que el gráfico esté desplazado hacia la derecha en comparación al de las mujeres.\n",
    "\n",
    "Para analizar el rol que cumple la desviación estándar, veremos algunos ejemplos de distribuciones normales con la misma media pero diferentes desviaciones."
   ]
  },
  {
   "cell_type": "code",
   "execution_count": 13,
   "metadata": {
    "colab": {
     "base_uri": "https://localhost:8080/",
     "height": 452
    },
    "executionInfo": {
     "elapsed": 478,
     "status": "ok",
     "timestamp": 1690472735958,
     "user": {
      "displayName": "Pedro Rupin Gutiérrez",
      "userId": "00594041316908064396"
     },
     "user_tz": 240
    },
    "id": "Il8ucHonrIMt",
    "outputId": "706c02ec-a778-4951-cc81-8928089d19c2"
   },
   "outputs": [
    {
     "data": {
      "image/png": "[encoded data removed]",
      "text/plain": [
       "<Figure size 640x480 with 1 Axes>"
      ]
     },
     "metadata": {},
     "output_type": "display_data"
    }
   ],
   "source": [
    "x = np.linspace(0, 100)# consideraremos un rango de valores entre 0 y 100\n",
    "\n",
    "desv={5:'blue',10:'red',15:'black',20:'orange',25:'green'}\n",
    "\n",
    "for clave,valor in desv.items():\n",
    "  pdf = norm.pdf(x, loc=50, scale=clave)\n",
    "  plt.plot(x, pdf, color=valor, label=clave)\n",
    "\n",
    "plt.ylabel('Densidad de probabilidad normalizada')\n",
    "plt.title('Efecto de la desviación estándar')\n",
    "plt.legend()\n",
    "plt.show()"
   ]
  },
  {
   "cell_type": "markdown",
   "metadata": {
    "id": "3jvFJc-3s_tu"
   },
   "source": [
    "¿Qué ocurre cuando aumenta el valor de sigma?\n",
    "\n",
    "## <strong><font color=\"green\">Aplicación la distribución normal</font></strong>\n",
    "\n",
    "Considerando el modelamiento anterior, vamos a comparar los resultados \"reales\" (es decir, considerando la lista de datos) con lo que predice un modelo basado en la distribución normal. Específicamente, nos preguntaremos ¿cuál es la probabilidad de que una persona al azar mida 72 pulgadas o menos?\n",
    "\n",
    "Nuestra primera alternativa es determinar a qué percentil corresponde 72 en el conjunto de datos. Para esto necesitaremos cargar una librería.\n"
   ]
  },
  {
   "cell_type": "markdown",
   "metadata": {},
   "source": [
    "### ¿Qué es norm.cdf?\n",
    "\n",
    "**norm.cdf** es una función de la librería scipy.stats que calcula la función de distribución acumulativa (CDF) de una distribución normal. La CDF te dice la probabilidad de que una variable aleatoria tome un valor menor o igual a un valor específico.\n",
    "\n",
    "* En otras palabras, norm.cdf responde a la pregunta:\n",
    "\n",
    "**\"¿Cuál es la probabilidad de que un valor sea menor o igual a x en una distribución normal?\"**"
   ]
  },
  {
   "cell_type": "markdown",
   "metadata": {},
   "source": [
    "En este ejercicio, comparamos percentiles **reales** y **teóricos (alturas_prueba)** para evaluar cómo se ajustan nuestros datos a una distribución normal. Usamos **percentileofscore** para calcular los percentiles reales y **norm.cdf** para los teóricos. Esto nos permite ver si los datos siguen una distribución normal y entender su comportamiento. Por ejemplo, si el percentil real y teórico para una altura de 72 pulgadas son cercanos (92.71 vs 92.84), sugiere un buen ajuste al modelo normal. Este análisis es útil para predecir probabilidades y tomar decisiones basadas en datos."
   ]
  },
  {
   "cell_type": "code",
   "execution_count": 14,
   "metadata": {},
   "outputs": [
    {
     "name": "stdout",
     "output_type": "stream",
     "text": [
      "El percentil real para 70 es 81.22, y el teórico es 82.74\n",
      "El percentil real para 72 es 92.71, y el teórico es 92.84\n",
      "El percentil real para 80 es 100.0, y el teórico es 99.98\n",
      "El percentil real para 82 es 100.0, y el teórico es 100.0\n",
      "El percentil real para 90 es 100.0, y el teórico es 100.0\n",
      "El percentil real para 92 es 100.0, y el teórico es 100.0\n"
     ]
    }
   ],
   "source": [
    "from scipy.stats import percentileofscore\n",
    "alturas_prueba = [70,72,80,82,90,92]\n",
    "\n",
    "for i in alturas_prueba:\n",
    "  p_real=round(percentileofscore(alturas,i),2)\n",
    "\n",
    "  p_modelo=round(100*norm.cdf(i, loc=mu, scale=sigma),2)\n",
    "\n",
    "  print(f'El percentil real para {i} es {p_real}, y el teórico es {p_modelo}')"
   ]
  },
  {
   "cell_type": "code",
   "execution_count": 15,
   "metadata": {
    "colab": {
     "base_uri": "https://localhost:8080/"
    },
    "executionInfo": {
     "elapsed": 24,
     "status": "ok",
     "timestamp": 1690472756732,
     "user": {
      "displayName": "Pedro Rupin Gutiérrez",
      "userId": "00594041316908064396"
     },
     "user_tz": 240
    },
    "id": "YiB2UYpdBLdW",
    "outputId": "420e6c2b-9c1f-4163-fed0-c984913c64a2"
   },
   "outputs": [
    {
     "name": "stdout",
     "output_type": "stream",
     "text": [
      "92.71000000000001\n"
     ]
    }
   ],
   "source": [
    "# Si nos fijamos solo en la altura 72...\n",
    "\n",
    "print(percentileofscore(alturas, 72))\n"
   ]
  },
  {
   "cell_type": "markdown",
   "metadata": {
    "id": "3XrZid1JB1cY"
   },
   "source": [
    "Es decir, un 92,7% de las personas de la muestra mide 72 puldadas o menos. O, lo que es igual, la probabilidad de escoger a una persona al azar que mida 72 pulgadas o menos es 0,927, aproximadamente.\n",
    "\n",
    "¿Qué ocurre si consideramos la función normal definida por el promedio y la desviación estándar de los datos?"
   ]
  },
  {
   "cell_type": "code",
   "execution_count": 16,
   "metadata": {
    "colab": {
     "base_uri": "https://localhost:8080/"
    },
    "executionInfo": {
     "elapsed": 534,
     "status": "ok",
     "timestamp": 1690473031318,
     "user": {
      "displayName": "Pedro Rupin Gutiérrez",
      "userId": "00594041316908064396"
     },
     "user_tz": 240
    },
    "id": "DAyA6tyuCgA3",
    "outputId": "fcd5905a-e683-4ea8-bb57-8ae2b8ab494b"
   },
   "outputs": [
    {
     "name": "stdout",
     "output_type": "stream",
     "text": [
      "La probabilidad de obtener un valor menor o igual a 72 es: 0.9284009209133961\n"
     ]
    }
   ],
   "source": [
    "\n",
    "mu = np.mean(alturas)\n",
    "sigma = np.std(alturas)\n",
    "\n",
    "# Valor específico para el cual queremos calcular la probabilidad\n",
    "valor = 72\n",
    "\n",
    "# Calcular la probabilidad acumulada\n",
    "probabilidad = norm.cdf(valor, loc=mu, scale=sigma)\n",
    "\n",
    "print(\"La probabilidad de obtener un valor menor o igual a\", valor, \"es:\", probabilidad)\n"
   ]
  },
  {
   "cell_type": "markdown",
   "metadata": {
    "id": "nTh3XWjYC4wB"
   },
   "source": [
    "**mu** es el promedio (o media) de un conjunto de datos, en este caso las alturas. Esto representa el valor promedio de todas las alturas en el conjunto."
   ]
  },
  {
   "cell_type": "markdown",
   "metadata": {},
   "source": [
    "**sigma** es la desviación estándar, que mide cuánto se desvían los valores del conjunto respecto al promedio. Si la desviación estándar es baja, las alturas están más cercanas al promedio; si es alta, están más dispersas."
   ]
  },
  {
   "cell_type": "markdown",
   "metadata": {},
   "source": [
    "**norm.cdf** es una función que proviene de la distribución normal. Esta función nos da la probabilidad acumulada hasta un cierto punto, en este caso hasta el valor 72."
   ]
  },
  {
   "cell_type": "markdown",
   "metadata": {},
   "source": [
    "La función tiene tres parámetros:\n",
    "\n",
    "* **valor** =  El valor específico (en este caso, 72).\n",
    "* **loc** = mu: La media o promedio de los datos (el \"centro\" de la distribución).\n",
    "* **scale** = sigma: La desviación estándar (qué tan dispersos están los datos)."
   ]
  },
  {
   "cell_type": "markdown",
   "metadata": {},
   "source": [
    "La CDF nos da la probabilidad de que un valor aleatorio, proveniente de la distribución normal con media mu y desviación estándar sigma, sea menor o igual a 72."
   ]
  },
  {
   "cell_type": "markdown",
   "metadata": {},
   "source": [
    "Esto significa que hay un **92.84%** de probabilidad de que un valor, tomado aleatoriamente de esa distribución normal (es decir, alturas con un promedio y una desviación estándar determinados), sea menor o igual a 72."
   ]
  },
  {
   "cell_type": "markdown",
   "metadata": {},
   "source": [
    "**Ejemplo práctico:**\n",
    "\n",
    "supongamos que las alturas siguen una distribución normal con media 68 pulgadas y una desviación estándar de 3 pulgadas. Cuando usamos norm.cdf(72, loc=68, scale=3), estamos preguntando: \n",
    "**\"¿Cuál es la probabilidad de que una persona seleccionada al azar tenga una altura de 72 pulgadas o menos?\"**\n",
    "\n",
    "El resultado de **0.9284** nos dice que el **92.84%** de las personas están por debajo o en ese valor."
   ]
  },
  {
   "cell_type": "code",
   "execution_count": null,
   "metadata": {},
   "outputs": [],
   "source": []
  },
  {
   "cell_type": "markdown",
   "metadata": {},
   "source": [
    "## Realizamos una modificación de la data"
   ]
  },
  {
   "cell_type": "markdown",
   "metadata": {},
   "source": [
    "Vamos a agregar informacion acerca de fumadores y no fumadores"
   ]
  },
  {
   "cell_type": "code",
   "execution_count": null,
   "metadata": {},
   "outputs": [],
   "source": []
  },
  {
   "cell_type": "code",
   "execution_count": 17,
   "metadata": {},
   "outputs": [
    {
     "data": {
      "text/html": [
       "<div>\n",
       "<style scoped>\n",
       "    .dataframe tbody tr th:only-of-type {\n",
       "        vertical-align: middle;\n",
       "    }\n",
       "\n",
       "    .dataframe tbody tr th {\n",
       "        vertical-align: top;\n",
       "    }\n",
       "\n",
       "    .dataframe thead th {\n",
       "        text-align: right;\n",
       "    }\n",
       "</style>\n",
       "<table border=\"1\" class=\"dataframe\">\n",
       "  <thead>\n",
       "    <tr style=\"text-align: right;\">\n",
       "      <th></th>\n",
       "      <th>Gender</th>\n",
       "      <th>Height</th>\n",
       "      <th>Weight</th>\n",
       "      <th>Smoker</th>\n",
       "    </tr>\n",
       "  </thead>\n",
       "  <tbody>\n",
       "    <tr>\n",
       "      <th>0</th>\n",
       "      <td>Male</td>\n",
       "      <td>73.847017</td>\n",
       "      <td>241.893563</td>\n",
       "      <td>True</td>\n",
       "    </tr>\n",
       "    <tr>\n",
       "      <th>1</th>\n",
       "      <td>Male</td>\n",
       "      <td>68.781904</td>\n",
       "      <td>162.310473</td>\n",
       "      <td>True</td>\n",
       "    </tr>\n",
       "    <tr>\n",
       "      <th>2</th>\n",
       "      <td>Male</td>\n",
       "      <td>74.110105</td>\n",
       "      <td>212.740856</td>\n",
       "      <td>True</td>\n",
       "    </tr>\n",
       "    <tr>\n",
       "      <th>3</th>\n",
       "      <td>Male</td>\n",
       "      <td>71.730978</td>\n",
       "      <td>220.042470</td>\n",
       "      <td>True</td>\n",
       "    </tr>\n",
       "    <tr>\n",
       "      <th>4</th>\n",
       "      <td>Male</td>\n",
       "      <td>69.881796</td>\n",
       "      <td>206.349801</td>\n",
       "      <td>True</td>\n",
       "    </tr>\n",
       "  </tbody>\n",
       "</table>\n",
       "</div>"
      ],
      "text/plain": [
       "  Gender     Height      Weight  Smoker\n",
       "0   Male  73.847017  241.893563    True\n",
       "1   Male  68.781904  162.310473    True\n",
       "2   Male  74.110105  212.740856    True\n",
       "3   Male  71.730978  220.042470    True\n",
       "4   Male  69.881796  206.349801    True"
      ]
     },
     "execution_count": 17,
     "metadata": {},
     "output_type": "execute_result"
    }
   ],
   "source": [
    "import pandas as pd\n",
    "import numpy as np\n",
    "\n",
    "# Cargar el dataset\n",
    "dataset = pd.read_csv('height_weight.csv')\n",
    "\n",
    "# Definir el tamaño del dataset\n",
    "total = len(dataset)\n",
    "\n",
    "# Generar una nueva columna 'Smoker' con 61% fumadores (1) y 39% no fumadores (0)\n",
    "dataset['Smoker'] = np.random.choice([True, False], size=total, p=[0.61, 0.39])\n",
    "\n",
    "# Ver las primeras filas para verificar el resultado\n",
    "dataset.head()"
   ]
  },
  {
   "cell_type": "code",
   "execution_count": 18,
   "metadata": {},
   "outputs": [
    {
     "data": {
      "text/plain": [
       "Smoker\n",
       "True     6108\n",
       "False    3892\n",
       "Name: count, dtype: int64"
      ]
     },
     "execution_count": 18,
     "metadata": {},
     "output_type": "execute_result"
    }
   ],
   "source": [
    "dataset.Smoker.value_counts()"
   ]
  },
  {
   "cell_type": "code",
   "execution_count": null,
   "metadata": {},
   "outputs": [],
   "source": []
  },
  {
   "cell_type": "code",
   "execution_count": 19,
   "metadata": {},
   "outputs": [
    {
     "data": {
      "image/png": "[encoded data removed]",
      "text/plain": [
       "<Figure size 640x480 with 1 Axes>"
      ]
     },
     "metadata": {},
     "output_type": "display_data"
    }
   ],
   "source": [
    "#Seleccionamos los datos y cambiamos los True por 1 y False por cero. Con esto calculamos la probabilidad\n",
    "\n",
    "datos = dataset['Smoker'].dropna()\n",
    "fuma = np.where(datos, 1, 0)\n",
    "p=sum(fuma)/len(fuma)\n",
    "\n",
    "#Generamos las muestras \"teoricas\" con la distribución binomial, y almacenamos las medias muestrales\n",
    "medias_binom=[]\n",
    "for j in range(1000):\n",
    "  medias_binom.append(np.mean(np.random.binomial(5,p,size=8)))\n",
    "\n",
    "#escogemos ahora las 1000 muestras de tamaño 8 a partir de los datos reales, y hacemos lo mismo\n",
    "medias=[]\n",
    "for k in range(1000):\n",
    "  muestra=[]\n",
    "  for t in range(8):\n",
    "    muestra.append(sum(np.random.choice(fuma,size=5,replace=False)))\n",
    "  medias.append(np.mean(muestra))\n",
    "\n",
    "plt.hist(medias_binom, bins=10,density=True,alpha=0.5, color='red', label='Binomial')\n",
    "plt.hist(medias, bins=10,density=True,alpha=0.5,color='blue', label='Real')\n",
    "\n",
    "plt.xlabel('Media muestral')\n",
    "plt.ylabel('Frecuencia')\n",
    "plt.show()"
   ]
  },
  {
   "cell_type": "markdown",
   "metadata": {},
   "source": [
    "Estamos generando 1000 muestras teóricas a partir de un modelo binomial. El objetivo es simular cómo se comporta el experimento de seleccionar 5 registros al azar repetido 8 veces en cada muestra. Se Está usando la función **np.random.binomial** para generar resultados binomiales, y luego calculamos la media muestral de cada muestra. Esto lo haces 1000 veces."
   ]
  },
  {
   "cell_type": "markdown",
   "metadata": {},
   "source": [
    "en lugar de usar el modelo teórico binomial, tomamos 1000 muestras de los datos reales. En cada muestra, seleccionas 5 registros  de forma aleatoria sin reemplazo (con np.random.choice). Luego, para cada muestra calculamos la media de cuántos de esos 5 registros fuman. Esto nos da 1000 medias muestrales basadas en datos reales."
   ]
  },
  {
   "cell_type": "markdown",
   "metadata": {},
   "source": [
    "El gráfico nos muestra dos histogramas superpuestos:\n",
    "\n",
    "* Rojo: Distribución de las medias teóricas (binomial). #np.random.binomial\n",
    "\n",
    "* Azul: Distribución de las medias reales. # np.random.choice(fuma,size=5,replace=False\n",
    "\n",
    "Si ambos histogramas se superponen bien, el modelo binomial es una buena representación de los datos. Si no, puede ser necesario revisar el modelo o los datos.\n",
    "\n",
    "**Resumen**\n",
    "\n",
    "* Teórico: Usamos la distribución binomial para simular cómo deberían comportarse los datos si siguieran ese modelo.\n",
    "\n",
    "* Empírico: Usamos los datos reales para ver cómo se comportan en la práctica.\n",
    "\n",
    "* Comparación: Graficamos ambas distribuciones para ver si el modelo teórico es una buena aproximación de la realidad."
   ]
  },
  {
   "cell_type": "code",
   "execution_count": null,
   "metadata": {},
   "outputs": [],
   "source": []
  },
  {
   "cell_type": "markdown",
   "metadata": {},
   "source": [
    "## Verificación del Teorema del Límite Central (TLC)\n",
    "\n",
    "El Teorema del Límite Central establece que, a medida que tomamos más muestras de una población (sin importar la distribución original), la distribución de las medias muestrales tenderá a aproximarse a una distribución normal."
   ]
  },
  {
   "cell_type": "markdown",
   "metadata": {},
   "source": [
    "Qué estamos haciendo en este ejercicio:\n",
    "\n",
    "Estamos generando medias muestrales tanto a partir del modelo teórico (binomial) como de los datos reales.\n",
    "Al graficar los histogramas, esperamos ver que las medias de las muestras sigan una forma que se aproxime a la distribución normal. En este caso, ambas distribuciones (real y binomial) deberían empezar a parecerse a una campana simétrica."
   ]
  },
  {
   "cell_type": "markdown",
   "metadata": {},
   "source": [
    "## ¿Para qué sirve este ejercicio?\n",
    "\n",
    "* **Simulación de modelos teóricos:** nos permite comparar si el modelo binomial teórico es una buena aproximación de la realidad.\n",
    "\n",
    "\n",
    "* **Validación del Teorema del Límite Central:** Nos muestra que, aunque los datos individuales pueden no seguir una distribución normal, las medias muestrales tenderán a aproximarse a una normalidad, lo que es uno de los resultados más importantes en estadística.\n",
    "\n",
    "\n",
    "* **Comparación gráfica:** Nos ayuda a visualizar si la distribución de medias teóricas (modelo binomial) es similar a las medias obtenidas de los datos reales. Si los histogramas son similares, significa que nuestro modelo binomial representa bien el comportamiento real."
   ]
  },
  {
   "cell_type": "code",
   "execution_count": 20,
   "metadata": {},
   "outputs": [
    {
     "data": {
      "image/png": "[encoded data removed]",
      "text/plain": [
       "<Figure size 640x480 with 1 Axes>"
      ]
     },
     "metadata": {},
     "output_type": "display_data"
    }
   ],
   "source": [
    "#Vimos que la probabilidad es p. Calculamos la media y desviación teóricas\n",
    "mu=np.mean(medias)\n",
    "desv=np.std(medias)\n",
    "minimo=np.min(medias_binom)\n",
    "maximo=np.max(medias_binom)\n",
    "x = np.linspace(minimo, maximo,num=10)\n",
    "pdf = norm.pdf(x, loc=mu, scale=desv)\n",
    "a=np.std(medias)\n",
    "b=np.std(medias_binom)\n",
    "plt.hist(medias_binom, bins=10,density=True,alpha=0.5, color='red', label='Binomial')\n",
    "plt.hist(medias, bins=10,density=True,alpha=0.5,color='blue', label='Real')\n",
    "plt.plot(x, pdf, color='black', label='Dist. Normal')\n",
    "plt.xlabel('Media muestral')\n",
    "plt.ylabel('Frecuencia')\n",
    "plt.show()"
   ]
  },
  {
   "cell_type": "code",
   "execution_count": null,
   "metadata": {},
   "outputs": [],
   "source": []
  }
 ],
 "metadata": {
  "colab": {
   "provenance": [
    {
     "file_id": "1oLe6BIjy26tdANk8ulRWZpp9qjIRxeru",
     "timestamp": 1688710774583
    }
   ]
  },
  "kernelspec": {
   "display_name": "Python 3 (ipykernel)",
   "language": "python",
   "name": "python3"
  },
  "language_info": {
   "codemirror_mode": {
    "name": "ipython",
    "version": 3
   },
   "file_extension": ".py",
   "mimetype": "text/x-python",
   "name": "python",
   "nbconvert_exporter": "python",
   "pygments_lexer": "ipython3",
   "version": "3.12.3"
  }
 },
 "nbformat": 4,
 "nbformat_minor": 4
}
